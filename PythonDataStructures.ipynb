{
  "nbformat": 4,
  "nbformat_minor": 0,
  "metadata": {
    "colab": {
      "provenance": []
    },
    "kernelspec": {
      "name": "python3",
      "display_name": "Python 3"
    },
    "language_info": {
      "name": "python"
    }
  },
  "cells": [
    {
      "cell_type": "markdown",
      "source": [
        "Here are the answers to your questions:  \n",
        "\n",
        "1. **What are data structures, and why are they important?**  \n",
        "   - Data structures are ways of organizing and storing data efficiently. They are important because they allow efficient access, manipulation, and storage of data, optimizing performance for various operations. Examples include lists, tuples, dictionaries, sets, and more.\n",
        "\n",
        "2. **Explain the difference between mutable and immutable data types with examples.**  \n",
        "   - Mutable data types can be changed after creation (e.g., lists, dictionaries, sets).  \n",
        "   - Immutable data types cannot be modified once created (e.g., tuples, strings, integers).  \n",
        "   - Example:  \n",
        "     ```python\n",
        "     my_list = [1, 2, 3]  # Mutable\n",
        "     my_list.append(4)  # Modifies the list\n",
        "\n",
        "     my_tuple = (1, 2, 3)  # Immutable\n",
        "     my_tuple[0] = 10  # Error: Tuples cannot be changed\n",
        "     ```\n",
        "\n",
        "3. **What are the main differences between lists and tuples in Python?**  \n",
        "   - **Lists**: Mutable, slower, use more memory, can be modified.  \n",
        "   - **Tuples**: Immutable, faster, use less memory, cannot be modified.\n",
        "\n",
        "4. **Describe how dictionaries store data.**  \n",
        "   - Dictionaries store data as key-value pairs using a hash table. Each key is hashed to determine its storage location, ensuring fast lookup times.\n",
        "\n",
        "5. **Why might you use a set instead of a list in Python?**  \n",
        "   - Sets are useful when uniqueness is required since they do not allow duplicate values. They also provide faster lookups compared to lists.\n",
        "\n",
        "6. **What is a string in Python, and how is it different from a list?**  \n",
        "   - A string is an immutable sequence of characters, while a list is a mutable sequence of elements. Strings cannot be modified in place, whereas lists can.\n",
        "\n",
        "7. **How do tuples ensure data integrity in Python?**  \n",
        "   - Tuples are immutable, meaning their contents cannot be changed after creation, preventing accidental modifications and ensuring data consistency.\n",
        "\n",
        "8. **What is a hash table, and how does it relate to dictionaries in Python?**  \n",
        "   - A hash table is a data structure that maps keys to values using a hashing function. Python dictionaries use hash tables to enable fast lookups.\n",
        "\n",
        "9. **Can lists contain different data types in Python?**  \n",
        "   - Yes, Python lists can store elements of different data types.  \n",
        "   \n",
        "10. **Explain why strings are immutable in Python.**  \n",
        "    - Strings are immutable to enhance performance, security, and consistency. Immutable objects allow safe sharing across multiple parts of a program.\n",
        "\n",
        "11. **What advantages do dictionaries offer over lists for certain tasks?**  \n",
        "    - Dictionaries provide faster lookups (O(1) on average) using keys, while lists require O(n) time for searching.\n",
        "\n",
        "12. **Describe a scenario where using a tuple would be preferable over a list.**  \n",
        "    - When storing constant data like coordinates (latitude, longitude) or database records that should not change.\n",
        "\n",
        "13. **How do sets handle duplicate values in Python?**  \n",
        "    - Sets automatically remove duplicate values and only store unique elements.\n",
        "\n",
        "14. **How does the “in” keyword work differently for lists and dictionaries?**  \n",
        "    - For lists, `in` checks if a value exists and requires O(n) time.  \n",
        "    - For dictionaries, `in` checks if a key exists and requires O(1) time.\n",
        "\n",
        "15. **Can you modify the elements of a tuple? Explain why or why not.**  \n",
        "    - No, tuples are immutable. You cannot change, add, or remove elements after creation.\n",
        "\n",
        "16. **What is a nested dictionary, and give an example of its use case?**  \n",
        "    - A nested dictionary is a dictionary containing another dictionary.\n",
        "    - Useful for storing structured data like JSON.\n",
        "\n",
        "17. **Describe the time complexity of accessing elements in a dictionary.**  \n",
        "    - Dictionary lookups have an average time complexity of O(1) due to hash table implementation.\n",
        "\n",
        "18. **In what situations are lists preferred over dictionaries?**  \n",
        "    - When order matters or when storing sequential data that does not require key-value pairs.\n",
        "\n",
        "19. **Why are dictionaries considered unordered, and how does that affect data retrieval?**  \n",
        "    - Dictionaries were unordered before Python 3.7. Now, they maintain insertion order but are still optimized for fast lookups rather than sequential access.\n",
        "\n",
        "20. **Explain the difference between a list and a dictionary in terms of data retrieval.**  \n",
        "    - Lists retrieve elements by index (O(1) time), whereas dictionaries retrieve values by key (O(1) time but optimized for lookup efficiency)."
      ],
      "metadata": {
        "id": "cHSz02BpPrAE"
      }
    },
    {
      "cell_type": "code",
      "source": [
        "# 1. Write a code to create a string with your name and print it.\n",
        "name = \"Khushi Arora\"\n",
        "print(name)"
      ],
      "metadata": {
        "colab": {
          "base_uri": "https://localhost:8080/"
        },
        "id": "q6MQKSRIS2vk",
        "outputId": "e0ba7cdd-3463-40c2-ef92-ef65997b9d70"
      },
      "execution_count": null,
      "outputs": [
        {
          "output_type": "stream",
          "name": "stdout",
          "text": [
            "Khushi Arora\n"
          ]
        }
      ]
    },
    {
      "cell_type": "code",
      "source": [
        "#2. Write a code to find the length of the string \"Hello World\".\n",
        "string_length = len(\"Hello World\")\n",
        "print(string_length)"
      ],
      "metadata": {
        "colab": {
          "base_uri": "https://localhost:8080/"
        },
        "id": "LXE94tcUbjTY",
        "outputId": "53b2dd0c-37c7-46ec-be61-fb56bd287ba9"
      },
      "execution_count": null,
      "outputs": [
        {
          "output_type": "stream",
          "name": "stdout",
          "text": [
            "11\n"
          ]
        }
      ]
    },
    {
      "cell_type": "code",
      "source": [
        "#3. Write a code to slice the first 3 characters from the string \"Python Programming\".\n",
        "sliced_string = \"Python Programming\"[:3]\n",
        "print(sliced_string)\n"
      ],
      "metadata": {
        "colab": {
          "base_uri": "https://localhost:8080/"
        },
        "id": "E7Lu-zM_bp5x",
        "outputId": "6517c5b7-c5b3-41cb-a9b4-7105c3140928"
      },
      "execution_count": null,
      "outputs": [
        {
          "output_type": "stream",
          "name": "stdout",
          "text": [
            "Pyt\n"
          ]
        }
      ]
    },
    {
      "cell_type": "code",
      "source": [
        "#4. Write a code to convert the string \"hello\" to uppercase.\n",
        "uppercase_string = \"hello\".upper()\n",
        "print(uppercase_string)\n"
      ],
      "metadata": {
        "colab": {
          "base_uri": "https://localhost:8080/"
        },
        "id": "Saki7R9Zb6bR",
        "outputId": "7263cfa7-c742-4197-e119-556b7503d59b"
      },
      "execution_count": null,
      "outputs": [
        {
          "output_type": "stream",
          "name": "stdout",
          "text": [
            "HELLO\n"
          ]
        }
      ]
    },
    {
      "cell_type": "code",
      "source": [
        "#5. Write a code to replace the word \"apple\" with \"orange\" in the string \"I like apple\"\n",
        "new_string = \"I like apple\".replace(\"apple\", \"orange\")\n",
        "print(new_string)\n"
      ],
      "metadata": {
        "colab": {
          "base_uri": "https://localhost:8080/"
        },
        "id": "jruHZmAecEoS",
        "outputId": "91e5ad9b-6883-4d2b-9c83-bd14c1d7645e"
      },
      "execution_count": null,
      "outputs": [
        {
          "output_type": "stream",
          "name": "stdout",
          "text": [
            "I like orange\n"
          ]
        }
      ]
    },
    {
      "cell_type": "code",
      "source": [
        "#6. Write a code to create a list with numbers 1 to 5 and print it.\n",
        "num_list = [1, 2, 3, 4, 5]\n",
        "print(num_list)\n"
      ],
      "metadata": {
        "colab": {
          "base_uri": "https://localhost:8080/"
        },
        "id": "Lh7FPQmscOQX",
        "outputId": "e3db05b7-b68d-44e9-c075-988ba09f8e7f"
      },
      "execution_count": null,
      "outputs": [
        {
          "output_type": "stream",
          "name": "stdout",
          "text": [
            "[1, 2, 3, 4, 5]\n"
          ]
        }
      ]
    },
    {
      "cell_type": "code",
      "source": [
        "#7. Write a code to append the number 10 to the list [1, 2, 3, 4].\n",
        "num_list2 = [1, 2, 3, 4]\n",
        "num_list2.append(10)\n",
        "print(num_list2)\n"
      ],
      "metadata": {
        "colab": {
          "base_uri": "https://localhost:8080/"
        },
        "id": "d9IGjPiCcUFu",
        "outputId": "6c4e8857-e04b-4805-9904-9e7b3ae823d3"
      },
      "execution_count": null,
      "outputs": [
        {
          "output_type": "stream",
          "name": "stdout",
          "text": [
            "[1, 2, 3, 4, 10]\n"
          ]
        }
      ]
    },
    {
      "cell_type": "code",
      "source": [
        "#8. Write a code to remove the number 3 from the list [1, 2, 3, 4, 5].\n",
        "num_list3 = [1, 2, 3, 4, 5]\n",
        "num_list3.remove(3)\n",
        "print(num_list3)\n"
      ],
      "metadata": {
        "colab": {
          "base_uri": "https://localhost:8080/"
        },
        "id": "3pzyc6-qcVyb",
        "outputId": "c40f80e2-19ae-4a94-e8ce-fa6a82051cf5"
      },
      "execution_count": null,
      "outputs": [
        {
          "output_type": "stream",
          "name": "stdout",
          "text": [
            "[1, 2, 4, 5]\n"
          ]
        }
      ]
    },
    {
      "cell_type": "code",
      "source": [
        "#9. Write a code to access the second element in the list ['a', 'b', 'c', 'd'].\n",
        "char_list = ['a', 'b', 'c', 'd']\n",
        "print(char_list[1])\n"
      ],
      "metadata": {
        "colab": {
          "base_uri": "https://localhost:8080/"
        },
        "id": "fjbY-wsPcW9P",
        "outputId": "b24738b8-a8cd-4f6b-b1b7-99256bd3d596"
      },
      "execution_count": null,
      "outputs": [
        {
          "output_type": "stream",
          "name": "stdout",
          "text": [
            "b\n"
          ]
        }
      ]
    },
    {
      "cell_type": "code",
      "source": [
        "#10. Write a code to reverse the list [10, 20, 30, 40, 50].\n",
        "rev_list = [10, 20, 30, 40, 50]\n",
        "rev_list.reverse()\n",
        "print(rev_list)\n"
      ],
      "metadata": {
        "colab": {
          "base_uri": "https://localhost:8080/"
        },
        "id": "RG6zmMTqcYaG",
        "outputId": "a938991c-7b70-409e-b156-3ebfc00266a7"
      },
      "execution_count": null,
      "outputs": [
        {
          "output_type": "stream",
          "name": "stdout",
          "text": [
            "[50, 40, 30, 20, 10]\n"
          ]
        }
      ]
    },
    {
      "cell_type": "code",
      "source": [
        "#11. Write a code to create a tuple with the elements 100, 200, 300 and print it.\n",
        "num_tuple = (100, 200, 300)\n",
        "print(num_tuple)\n"
      ],
      "metadata": {
        "colab": {
          "base_uri": "https://localhost:8080/"
        },
        "id": "_JkSJkRBcZjA",
        "outputId": "84435093-d76e-413b-e963-d4c7cf0640b2"
      },
      "execution_count": null,
      "outputs": [
        {
          "output_type": "stream",
          "name": "stdout",
          "text": [
            "(100, 200, 300)\n"
          ]
        }
      ]
    },
    {
      "cell_type": "code",
      "source": [
        "#12. Write a code to access the second-to-last element of the tuple ('red', 'green', 'blue', 'yellow').\n",
        "color_tuple = ('red', 'green', 'blue', 'yellow')\n",
        "print(color_tuple[-2])\n"
      ],
      "metadata": {
        "colab": {
          "base_uri": "https://localhost:8080/"
        },
        "id": "F2vWe5xgc13n",
        "outputId": "8af09d81-e854-49c8-bf8e-f0b484b51164"
      },
      "execution_count": null,
      "outputs": [
        {
          "output_type": "stream",
          "name": "stdout",
          "text": [
            "blue\n"
          ]
        }
      ]
    },
    {
      "cell_type": "code",
      "source": [
        "#13. Write a code to find the minimum number in the tuple (10, 20, 5, 15).\n",
        "num_tuple2 = (10, 20, 5, 15)\n",
        "print(min(num_tuple2))"
      ],
      "metadata": {
        "colab": {
          "base_uri": "https://localhost:8080/"
        },
        "id": "8ODPtPs_c3WL",
        "outputId": "077b9f34-6f95-466b-e812-d93528709292"
      },
      "execution_count": null,
      "outputs": [
        {
          "output_type": "stream",
          "name": "stdout",
          "text": [
            "5\n"
          ]
        }
      ]
    },
    {
      "cell_type": "code",
      "source": [
        "#14.Write a code to find the index of the element \"cat\" in the tuple ('dog', 'cat', 'rabbit').\n",
        "animal_tuple = ('dog', 'cat', 'rabbit')\n",
        "print(animal_tuple.index('cat'))"
      ],
      "metadata": {
        "colab": {
          "base_uri": "https://localhost:8080/"
        },
        "id": "cZCK-79jc4cl",
        "outputId": "acd96bd6-7d77-4cf9-a948-7354000636c5"
      },
      "execution_count": null,
      "outputs": [
        {
          "output_type": "stream",
          "name": "stdout",
          "text": [
            "1\n"
          ]
        }
      ]
    },
    {
      "cell_type": "code",
      "source": [
        "#15.Write a code to create a tuple containing three different fruits and check if \"kiwi\" is in it.\n",
        "fruit_tuple = ('apple', 'banana', 'kiwi')\n",
        "print(\"kiwi\" in fruit_tuple)"
      ],
      "metadata": {
        "colab": {
          "base_uri": "https://localhost:8080/"
        },
        "id": "wMSbFSZXc5ly",
        "outputId": "8c16df21-a62e-4781-80f0-f4c082d65951"
      },
      "execution_count": null,
      "outputs": [
        {
          "output_type": "stream",
          "name": "stdout",
          "text": [
            "True\n"
          ]
        }
      ]
    },
    {
      "cell_type": "code",
      "source": [
        "#16. Write a code to create a set with the elements 'a', 'b', 'c' and print it.\n",
        "char_set = {'a', 'b', 'c'}\n",
        "print(char_set)"
      ],
      "metadata": {
        "colab": {
          "base_uri": "https://localhost:8080/"
        },
        "id": "o4VbZCnKc6n9",
        "outputId": "5149f93e-8096-471b-d854-c2bed405fc64"
      },
      "execution_count": null,
      "outputs": [
        {
          "output_type": "stream",
          "name": "stdout",
          "text": [
            "{'c', 'a', 'b'}\n"
          ]
        }
      ]
    },
    {
      "cell_type": "code",
      "source": [
        "#17.Write a code to clear all elements from the set {1, 2, 3, 4, 5}.\n",
        "num_set = {1, 2, 3, 4, 5}\n",
        "num_set.clear()\n",
        "print(num_set)\n"
      ],
      "metadata": {
        "colab": {
          "base_uri": "https://localhost:8080/"
        },
        "id": "VjOLNCBTdSsD",
        "outputId": "cae4f084-3c5e-41d6-8cb1-763b81f3b447"
      },
      "execution_count": null,
      "outputs": [
        {
          "output_type": "stream",
          "name": "stdout",
          "text": [
            "set()\n"
          ]
        }
      ]
    },
    {
      "cell_type": "code",
      "source": [
        "#18.Write a code to remove the element 4 from the set {1, 2, 3, 4}.\n",
        "num_set2 = {1, 2, 3, 4}\n",
        "num_set2.remove(4)\n",
        "print(num_set2)"
      ],
      "metadata": {
        "colab": {
          "base_uri": "https://localhost:8080/"
        },
        "id": "-yxIsLBRdUEP",
        "outputId": "1721cbba-3db0-4e93-81dc-b13371c90203"
      },
      "execution_count": null,
      "outputs": [
        {
          "output_type": "stream",
          "name": "stdout",
          "text": [
            "{1, 2, 3}\n"
          ]
        }
      ]
    },
    {
      "cell_type": "code",
      "source": [
        "#19. Write a code to find the union of two sets {1, 2, 3} and {3, 4, 5}.\n",
        "set1 = {1, 2, 3}\n",
        "set2 = {3, 4, 5}\n",
        "union_set = set1.union(set2)\n",
        "print(union_set)"
      ],
      "metadata": {
        "colab": {
          "base_uri": "https://localhost:8080/"
        },
        "id": "qTh4XCSCdVAg",
        "outputId": "d27fc0c2-3bd1-4e1b-b89f-3810bf93bfa0"
      },
      "execution_count": null,
      "outputs": [
        {
          "output_type": "stream",
          "name": "stdout",
          "text": [
            "{1, 2, 3, 4, 5}\n"
          ]
        }
      ]
    },
    {
      "cell_type": "code",
      "source": [
        "#20. Write a code to find the intersection of two sets {1, 2, 3} and {2, 3, 4}.\n",
        "intersection_set = set1.intersection(set2)\n",
        "print(intersection_set)"
      ],
      "metadata": {
        "colab": {
          "base_uri": "https://localhost:8080/"
        },
        "id": "l5Zd9zU6dWBQ",
        "outputId": "1be9c9fb-bf2e-4a9d-a19a-4b4850d5e186"
      },
      "execution_count": null,
      "outputs": [
        {
          "output_type": "stream",
          "name": "stdout",
          "text": [
            "{3}\n"
          ]
        }
      ]
    },
    {
      "cell_type": "code",
      "source": [
        "#21. Write a code to create a dictionary with the keys \"name\", \"age\", and \"city\", and print i\n",
        "person_dict = {\"name\": \"Alice\", \"age\": 25, \"city\": \"New York\"}\n",
        "print(person_dict)"
      ],
      "metadata": {
        "colab": {
          "base_uri": "https://localhost:8080/"
        },
        "id": "_FlP0MfLdxn7",
        "outputId": "10f23cbc-efc8-4b83-aaf4-5f2215a5e68a"
      },
      "execution_count": null,
      "outputs": [
        {
          "output_type": "stream",
          "name": "stdout",
          "text": [
            "{'name': 'Alice', 'age': 25, 'city': 'New York'}\n"
          ]
        }
      ]
    },
    {
      "cell_type": "code",
      "source": [
        "#22.Write a code to add a new key-value pair \"country\": \"USA\" to the dictionary\n",
        "person = {'name': 'John', 'age': 25}\n",
        "person['country'] = 'USA'\n",
        "print(person)"
      ],
      "metadata": {
        "colab": {
          "base_uri": "https://localhost:8080/"
        },
        "id": "YPYAf4ADdy_F",
        "outputId": "ba853be7-8793-45d8-9465-2efeb5709d69"
      },
      "execution_count": null,
      "outputs": [
        {
          "output_type": "stream",
          "name": "stdout",
          "text": [
            "{'name': 'John', 'age': 25, 'country': 'USA'}\n"
          ]
        }
      ]
    },
    {
      "cell_type": "code",
      "source": [
        "#23.Write a code to access the value associated with the key \"name\" in the dictionary {'name': 'Alice', 'age': 30}.\n",
        "person = {'name': 'Alice', 'age': 30}\n",
        "print(person['name'])\n"
      ],
      "metadata": {
        "colab": {
          "base_uri": "https://localhost:8080/"
        },
        "id": "PQ-aapWld0GJ",
        "outputId": "f8bdb81f-802b-4dfe-d0a7-a2e86ba3ebef"
      },
      "execution_count": null,
      "outputs": [
        {
          "output_type": "stream",
          "name": "stdout",
          "text": [
            "Alice\n"
          ]
        }
      ]
    },
    {
      "cell_type": "code",
      "source": [
        "#24. Write a code to remove the key \"age\" from the dictionary {'name': 'Bob', 'age': 22, 'city': 'New York'}.\n",
        "person = {'name': 'Bob', 'age': 22, 'city': 'New York'}\n",
        "del person['age']\n",
        "print(person)\n"
      ],
      "metadata": {
        "colab": {
          "base_uri": "https://localhost:8080/"
        },
        "id": "Y1yP3E1NgPJv",
        "outputId": "ee68dcb6-cbf1-41aa-d373-4eab6a2aab69"
      },
      "execution_count": null,
      "outputs": [
        {
          "output_type": "stream",
          "name": "stdout",
          "text": [
            "{'name': 'Bob', 'city': 'New York'}\n"
          ]
        }
      ]
    },
    {
      "cell_type": "code",
      "source": [
        "#25.Write a code to check if the key \"city\" exists in the dictionary {'name': 'Alice', 'city': 'Paris'}.\n",
        "person = {'name': 'Alice', 'city': 'Paris'}\n",
        "print(\"city\" in person)\n"
      ],
      "metadata": {
        "colab": {
          "base_uri": "https://localhost:8080/"
        },
        "id": "2ad8gh1ugQwA",
        "outputId": "3f7c1ee1-d87a-42f6-a74e-ea8549de198b"
      },
      "execution_count": null,
      "outputs": [
        {
          "output_type": "stream",
          "name": "stdout",
          "text": [
            "True\n"
          ]
        }
      ]
    },
    {
      "cell_type": "code",
      "source": [
        "#26.Write a code to create a list, a tuple, and a dictionary, and print them all.\n",
        "my_list = [1, 2, 3, 4, 5]\n",
        "my_tuple = (10, 20, 30)\n",
        "my_dict = {'a': 100, 'b': 200, 'c': 300}\n",
        "\n",
        "print(\"List:\", my_list)\n",
        "print(\"Tuple:\", my_tuple)\n",
        "print(\"Dictionary:\", my_dict)\n"
      ],
      "metadata": {
        "colab": {
          "base_uri": "https://localhost:8080/"
        },
        "id": "9da9l1zjgRzC",
        "outputId": "54d40fc3-a98a-4bda-c854-4522b91cad63"
      },
      "execution_count": null,
      "outputs": [
        {
          "output_type": "stream",
          "name": "stdout",
          "text": [
            "List: [1, 2, 3, 4, 5]\n",
            "Tuple: (10, 20, 30)\n",
            "Dictionary: {'a': 100, 'b': 200, 'c': 300}\n"
          ]
        }
      ]
    },
    {
      "cell_type": "code",
      "source": [
        "#27.Write a code to create a list of 5 random numbers between 1 and 100, sort it in ascending order, and print the result.\n",
        "import random\n",
        "\n",
        "random_list = random.sample(range(1, 101), 5)\n",
        "random_list.sort()\n",
        "\n",
        "print(random_list)\n",
        "\n"
      ],
      "metadata": {
        "colab": {
          "base_uri": "https://localhost:8080/"
        },
        "id": "L3Vnx5EfgTdc",
        "outputId": "8a13b198-1172-4a8b-bd3c-d774c6603a4d"
      },
      "execution_count": null,
      "outputs": [
        {
          "output_type": "stream",
          "name": "stdout",
          "text": [
            "[13, 17, 46, 58, 88]\n"
          ]
        }
      ]
    },
    {
      "cell_type": "code",
      "source": [
        "#28.Write a code to create a list with strings and print the element at the third index.\n",
        "string_list = [\"apple\", \"banana\", \"cherry\", \"date\", \"elderberry\"]\n",
        "print(string_list[3])\n"
      ],
      "metadata": {
        "colab": {
          "base_uri": "https://localhost:8080/"
        },
        "id": "tKlOal6TgUhn",
        "outputId": "0b597222-a64e-4ff0-f5b1-52eab5b8392b"
      },
      "execution_count": null,
      "outputs": [
        {
          "output_type": "stream",
          "name": "stdout",
          "text": [
            "date\n"
          ]
        }
      ]
    },
    {
      "cell_type": "code",
      "source": [
        "#29. Write a code to combine two dictionaries into one and print the result.\n",
        "dict1 = {'name': 'Alice', 'age': 25}\n",
        "dict2 = {'city': 'New York', 'country': 'USA'}\n",
        "\n",
        "combined_dict = {**dict1, **dict2}\n",
        "print(combined_dict)\n"
      ],
      "metadata": {
        "colab": {
          "base_uri": "https://localhost:8080/"
        },
        "id": "G2nx93uVhomO",
        "outputId": "6b6981db-3626-4832-b0f2-a8b2b5f2e1f2"
      },
      "execution_count": null,
      "outputs": [
        {
          "output_type": "stream",
          "name": "stdout",
          "text": [
            "{'name': 'Alice', 'age': 25, 'city': 'New York', 'country': 'USA'}\n"
          ]
        }
      ]
    },
    {
      "cell_type": "code",
      "source": [
        "#30.Write a code to convert a list of strings into a set.\n",
        "string_list = [\"apple\", \"banana\", \"cherry\", \"apple\", \"banana\"]\n",
        "string_set = set(string_list)\n",
        "\n",
        "print(string_set)"
      ],
      "metadata": {
        "colab": {
          "base_uri": "https://localhost:8080/"
        },
        "id": "RVABo9x0hp3C",
        "outputId": "3c794a94-0581-49d6-fb3d-fe0f78b96a7b"
      },
      "execution_count": null,
      "outputs": [
        {
          "output_type": "stream",
          "name": "stdout",
          "text": [
            "{'cherry', 'banana', 'apple'}\n"
          ]
        }
      ]
    }
  ]
}